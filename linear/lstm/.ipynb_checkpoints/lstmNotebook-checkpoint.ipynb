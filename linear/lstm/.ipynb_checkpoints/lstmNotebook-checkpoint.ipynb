{
 "cells": [
  {
   "cell_type": "code",
   "execution_count": 4,
   "id": "51b10c8f",
   "metadata": {},
   "outputs": [],
   "source": [
    "import torch\n",
    "from torch import nn\n",
    "from torch.utils.data import TensorDataset, DataLoader\n",
    "import numpy as np\n",
    "import matplotlib.pyplot as plt\n",
    "from sklearn.model_selection import train_test_split\n",
    "from Adam import Adam\n",
    "from lstm import LSTMModel\n",
    "from timeit import default_timer\n",
    "import operator\n",
    "from functools import reduce\n",
    "from functools import partial\n",
    "from normal import UnitGaussianNormalizer"
   ]
  },
  {
   "cell_type": "code",
   "execution_count": 5,
   "id": "ade990aa",
   "metadata": {},
   "outputs": [],
   "source": [
    "# Load Data\n",
    "x = np.loadtxt(\"x.dat\", dtype=np.float32)\n",
    "y = np.loadtxt(\"y.dat\", dtype=np.float32)\n",
    "x = x.reshape(x.shape[0], x.shape[1] // 2, 2)"
   ]
  },
  {
   "cell_type": "code",
   "execution_count": 6,
   "id": "90a21292",
   "metadata": {},
   "outputs": [],
   "source": [
    "# Parameters\n",
    "nt = 100\n",
    "epochs = 1000\n",
    "ntrain = 900\n",
    "ntest = 100\n",
    "batch_size = 20\n",
    "gamma = 0.5\n",
    "learning_rate = 0.001\n",
    "step_size= 50"
   ]
  },
  {
   "cell_type": "code",
   "execution_count": 7,
   "id": "eb540987",
   "metadata": {},
   "outputs": [],
   "source": [
    "# Create train/test splits\n",
    "x_train, x_test, y_train, y_test = train_test_split(x, y, test_size=0.1, random_state=1)\n",
    "x_train = torch.from_numpy(x_train).cuda()\n",
    "y_train = torch.from_numpy(y_train).cuda()\n",
    "x_test = torch.from_numpy(x_test).cuda()\n",
    "y_test = torch.from_numpy(y_test).cuda()\n",
    "\n",
    "# Normalize\n",
    "x_normalizer = UnitGaussianNormalizer(x_train)\n",
    "y_normalizer = UnitGaussianNormalizer(y_train)\n",
    "x_train  = x_normalizer.encode(x_train)\n",
    "x_test = x_normalizer.encode(x_test)\n",
    "y_train = y_normalizer.encode(y_train)\n",
    "\n",
    "trainData = DataLoader(TensorDataset(x_train, y_train), batch_size=batch_size, shuffle=True)\n",
    "testData = DataLoader(TensorDataset(x_test, y_test), batch_size=batch_size, shuffle=False)"
   ]
  },
  {
   "cell_type": "code",
   "execution_count": 8,
   "id": "bfea9505",
   "metadata": {},
   "outputs": [],
   "source": [
    "def count_params(model):\n",
    "    c = 0\n",
    "    for p in list(model.parameters()):\n",
    "        c += reduce(operator.mul, \n",
    "                    list(p.size()+(2,) if p.is_complex() else p.size()))\n",
    "    return c"
   ]
  },
  {
   "cell_type": "code",
   "execution_count": 9,
   "id": "7ef6d9cf",
   "metadata": {},
   "outputs": [
    {
     "name": "stdout",
     "output_type": "stream",
     "text": [
      "1229313\n"
     ]
    }
   ],
   "source": [
    "model = LSTMModel(2, 512, 1, 1, 3, [256, 128, 64]).cuda()\n",
    "print(count_params(model))"
   ]
  },
  {
   "cell_type": "code",
   "execution_count": 10,
   "id": "2629bada",
   "metadata": {},
   "outputs": [],
   "source": [
    "optimizer = Adam(model.parameters(), lr=learning_rate, weight_decay=1e-4)\n",
    "scheduler = torch.optim.lr_scheduler.StepLR(optimizer, step_size=step_size, gamma=gamma)"
   ]
  },
  {
   "cell_type": "code",
   "execution_count": null,
   "id": "b83577ca",
   "metadata": {},
   "outputs": [
    {
     "name": "stdout",
     "output_type": "stream",
     "text": [
      "0 0.42962207199889235 2.487758996751573 1.549831795692444\n",
      "50 0.25887985399822355 0.03307197654826773 0.018192278034985066\n",
      "100 0.2594628869992448 0.014473422259713212 0.00749197737313807\n"
     ]
    }
   ],
   "source": [
    "loss = nn.MSELoss()\n",
    "train_mseArr = []\n",
    "test_mseArr = []\n",
    "y_normalizer.cuda()\n",
    "for ep in range(epochs):\n",
    "    model.train()\n",
    "    t1 = default_timer()\n",
    "    train_mse = 0\n",
    "    for x, y in trainData:\n",
    "        x, y = x.cuda(), y.cuda()\n",
    "        optimizer.zero_grad()\n",
    "        out = model(x)\n",
    "        out = out.reshape((out.shape[0], out.shape[1]))\n",
    "        out = y_normalizer.decode(out)\n",
    "        y = y_normalizer.decode(y)\n",
    "        \n",
    "        \n",
    "        mse = loss(out.view(batch_size, -1), y.view(batch_size, -1))\n",
    "        mse.backward()\n",
    "        \n",
    "        optimizer.step()\n",
    "        train_mse += mse.item()\n",
    "        \n",
    "    scheduler.step()\n",
    "    model.eval()\n",
    "    test_mse = 0\n",
    "    with torch.no_grad():\n",
    "        for x, y in testData:\n",
    "            x, y = x.cuda(), y.cuda()\n",
    "            \n",
    "            out = model(x)\n",
    "            out = out.reshape((out.shape[0], out.shape[1]))\n",
    "            out = y_normalizer.decode(out)\n",
    "            test_mse += loss(out.view(batch_size, -1), y.view(batch_size, -1)).item()\n",
    "            \n",
    "    train_mse /= len(trainData)\n",
    "    test_mse /= len(testData)\n",
    "    \n",
    "    train_mseArr.append(train_mse)\n",
    "    test_mseArr.append(test_mse)\n",
    "    \n",
    "    t2 = default_timer()\n",
    "    if ep%50 == 0:\n",
    "        print(ep, t2-t1, train_mse, test_mse)"
   ]
  },
  {
   "cell_type": "code",
   "execution_count": null,
   "id": "b241b29e",
   "metadata": {},
   "outputs": [],
   "source": [
    "plt.plot(train_mseArr, label=\"Train\")\n",
    "plt.plot(test_mseArr, label=\"Test\")\n",
    "plt.yscale(\"log\")\n",
    "plt.legend()"
   ]
  },
  {
   "cell_type": "code",
   "execution_count": null,
   "id": "5bcffa4d",
   "metadata": {},
   "outputs": [],
   "source": [
    "# Show some examples\n",
    "with torch.no_grad():\n",
    "    for x, y in testData:\n",
    "        x, y = x.cuda(), y.cuda()   \n",
    "        out = model(x)\n",
    "        out = out.reshape((out.shape[0], out.shape[1]))\n",
    "        out = y_normalizer.decode(out)\n",
    "    for i in range(3):\n",
    "        plt.figure()\n",
    "        plt.plot(out[i].cpu().detach().numpy(), label=\"Guess from FNO\")\n",
    "        plt.plot(y[i].cpu().detach().numpy(), label=\"Correct\")\n",
    "        plt.legend()"
   ]
  },
  {
   "cell_type": "code",
   "execution_count": null,
   "id": "838f47aa",
   "metadata": {},
   "outputs": [],
   "source": []
  },
  {
   "cell_type": "code",
   "execution_count": null,
   "id": "99b645c1",
   "metadata": {},
   "outputs": [],
   "source": []
  }
 ],
 "metadata": {
  "kernelspec": {
   "display_name": "Python 3 (ipykernel)",
   "language": "python",
   "name": "python3"
  },
  "language_info": {
   "codemirror_mode": {
    "name": "ipython",
    "version": 3
   },
   "file_extension": ".py",
   "mimetype": "text/x-python",
   "name": "python",
   "nbconvert_exporter": "python",
   "pygments_lexer": "ipython3",
   "version": "3.9.12"
  }
 },
 "nbformat": 4,
 "nbformat_minor": 5
}

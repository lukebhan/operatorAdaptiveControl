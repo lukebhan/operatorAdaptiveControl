{
 "cells": [
  {
   "cell_type": "code",
   "execution_count": 1,
   "id": "51b10c8f",
   "metadata": {},
   "outputs": [],
   "source": [
    "import torch\n",
    "from torch import nn\n",
    "from torch.utils.data import TensorDataset, DataLoader\n",
    "import numpy as np\n",
    "import matplotlib.pyplot as plt\n",
    "from sklearn.model_selection import train_test_split\n",
    "from Adam import Adam\n",
    "from fourier_2d import FNO2d\n",
    "from timeit import default_timer\n",
    "import operator\n",
    "from functools import reduce\n",
    "from functools import partial\n",
    "from normal import UnitGaussianNormalizer"
   ]
  },
  {
   "cell_type": "code",
   "execution_count": null,
   "id": "ade990aa",
   "metadata": {},
   "outputs": [],
   "source": [
    "# Load Data\n",
    "x = np.loadtxt(\"x.dat\", dtype=np.float32)\n",
    "y = np.loadtxt(\"y.dat\", dtype=np.float32)\n",
    "x = x.reshape(x.shape[0], x.shape[1] // 1500, 1500)\n",
    "print(x.shape)\n",
    "print(y.shape)"
   ]
  },
  {
   "cell_type": "code",
   "execution_count": 3,
   "id": "90a21292",
   "metadata": {},
   "outputs": [],
   "source": [
    "# Parameters\n",
    "nt = 50\n",
    "epochs = 100\n",
    "ntrain = 900\n",
    "ntest = 100\n",
    "batch_size = 20\n",
    "gamma = 0.5\n",
    "learning_rate = 0.001\n",
    "step_size= 50\n",
    "modes = 12\n",
    "width = 32"
   ]
  },
  {
   "cell_type": "code",
   "execution_count": 4,
   "id": "eb540987",
   "metadata": {},
   "outputs": [],
   "source": [
    "# Create train/test splits\n",
    "x_train, x_test, y_train, y_test = train_test_split(x, y, test_size=0.1, random_state=1)\n",
    "x_train = torch.from_numpy(x_train).cuda()\n",
    "y_train = torch.from_numpy(y_train).cuda()\n",
    "x_test = torch.from_numpy(x_test).cuda()\n",
    "y_test = torch.from_numpy(y_test).cuda()\n",
    "\n",
    "# Normalize\n",
    "#x_normalizer = UnitGaussianNormalizer(x_train)\n",
    "#y_normalizer = UnitGaussianNormalizer(y_train)\n",
    "#x_train  = x_normalizer.encode(x_train)\n",
    "#x_test = x_normalizer.encode(x_test)\n",
    "#y_train = y_normalizer.encode(y_train)\n",
    "\n",
    "trainData = DataLoader(TensorDataset(x_train, y_train), batch_size=batch_size, shuffle=True)\n",
    "testData = DataLoader(TensorDataset(x_test, y_test), batch_size=batch_size, shuffle=False)"
   ]
  },
  {
   "cell_type": "code",
   "execution_count": 5,
   "id": "6fa829cc",
   "metadata": {},
   "outputs": [],
   "source": [
    "def count_params(model):\n",
    "    c = 0\n",
    "    for p in list(model.parameters()):\n",
    "        c += reduce(operator.mul, \n",
    "                    list(p.size()+(2,) if p.is_complex() else p.size()))\n",
    "    return c"
   ]
  },
  {
   "cell_type": "code",
   "execution_count": 6,
   "id": "7ef6d9cf",
   "metadata": {},
   "outputs": [
    {
     "name": "stdout",
     "output_type": "stream",
     "text": [
      "2368001\n"
     ]
    }
   ],
   "source": [
    "model = FNO2d(modes, modes, width).cuda()\n",
    "print(count_params(model))"
   ]
  },
  {
   "cell_type": "code",
   "execution_count": 7,
   "id": "2629bada",
   "metadata": {},
   "outputs": [],
   "source": [
    "optimizer = Adam(model.parameters(), lr=learning_rate, weight_decay=1e-4)\n",
    "scheduler = torch.optim.lr_scheduler.StepLR(optimizer, step_size=step_size, gamma=gamma)"
   ]
  },
  {
   "cell_type": "code",
   "execution_count": 8,
   "id": "b83577ca",
   "metadata": {},
   "outputs": [
    {
     "name": "stdout",
     "output_type": "stream",
     "text": [
      "0 3.378451758995652 178.8386478000217 91.11637268066406\n",
      "50 1.0372395210433751 0.9348253872659471 0.8013890564441681\n",
      "100 1.038453349028714 0.25538991060521865 0.3066145271062851\n",
      "150 1.0430301469750702 0.08956603912843598 0.1907407432794571\n",
      "200 1.0398970380192623 0.044568909953037895 0.0611672654747963\n",
      "250 1.0386690330924466 0.030769485690527492 0.043904893845319745\n",
      "300 0.5993653229670599 0.02541418094187975 0.03689450025558472\n",
      "350 0.5993029320379719 0.023030401766300203 0.03274985812604427\n",
      "400 0.6019125739112496 0.02121431012120512 0.030867844820022583\n",
      "450 0.599675334058702 0.02038171525216765 0.02994122840464115\n"
     ]
    }
   ],
   "source": [
    "loss = nn.MSELoss()\n",
    "train_mseArr = []\n",
    "test_mseArr = []\n",
    "for ep in range(epochs):\n",
    "    model.train()\n",
    "    t1 = default_timer()\n",
    "    train_mse = 0\n",
    "    for x, y in trainData:\n",
    "        x, y = x.cuda(), y.cuda()\n",
    "        optimizer.zero_grad()\n",
    "        out = model(x)\n",
    "        #out = y_normalizer.decode(out)\n",
    "        #y = y_normalizer.decode(y)\n",
    "        \n",
    "        mse = loss(out, y)\n",
    "        mse.backward()\n",
    "        \n",
    "        optimizer.step()\n",
    "        train_mse += mse.item()\n",
    "        \n",
    "    scheduler.step()\n",
    "    model.eval()\n",
    "    test_mse = 0\n",
    "    with torch.no_grad():\n",
    "        for x, y in testData:\n",
    "            x, y = x.cuda(), y.cuda()\n",
    "            \n",
    "            out = model(x)\n",
    "            #out = y_normalizer.decode(out)\n",
    "            test_mse += loss(out, y).item()\n",
    "            \n",
    "    train_mse /= len(trainData)\n",
    "    test_mse /= len(testData)\n",
    "    \n",
    "    train_mseArr.append(train_mse)\n",
    "    test_mseArr.append(test_mse)\n",
    "    \n",
    "    t2 = default_timer()\n",
    "    if ep%50 == 0:\n",
    "        print(ep, t2-t1, train_mse, test_mse)"
   ]
  },
  {
   "cell_type": "code",
   "execution_count": 9,
   "id": "2a99042f",
   "metadata": {},
   "outputs": [
    {
     "data": {
      "text/plain": [
       "<matplotlib.legend.Legend at 0x7f71940bddf0>"
      ]
     },
     "execution_count": 9,
     "metadata": {},
     "output_type": "execute_result"
    },
    {
     "data": {
      "image/png": "[encoded data removed]",
      "text/plain": [
       "<Figure size 432x288 with 1 Axes>"
      ]
     },
     "metadata": {
      "needs_background": "light"
     },
     "output_type": "display_data"
    }
   ],
   "source": [
    "plt.plot(train_mseArr, label=\"Train\")\n",
    "plt.plot(test_mseArr, label=\"Test\")\n",
    "plt.yscale(\"log\")\n",
    "plt.legend()"
   ]
  },
  {
   "cell_type": "code",
   "execution_count": 10,
   "id": "84718c9e",
   "metadata": {},
   "outputs": [
    {
     "data": {
      "image/png": "[encoded data removed]",
      "text/plain": [
       "<Figure size 432x288 with 1 Axes>"
      ]
     },
     "metadata": {
      "needs_background": "light"
     },
     "output_type": "display_data"
    }
   ],
   "source": [
    "# Show some examples\n",
    "with torch.no_grad():\n",
    "    for x, y in testData:\n",
    "        x, y = x.cuda(), y.cuda()   \n",
    "        out = model(x)\n",
    "    plt.plot(out[0, -1].detach().cpu())\n",
    "    plt.plot(y[0, -1].detach().cpu())"
   ]
  },
  {
   "cell_type": "code",
   "execution_count": 11,
   "id": "61b92f0a",
   "metadata": {},
   "outputs": [
    {
     "name": "stdout",
     "output_type": "stream",
     "text": [
      "TEST MSE For 20 Instances: tensor(0.0295, device='cuda:0')\n",
      "TEST MSE FINAL VALUE for 20 Instances: 0.020294246077537537\n"
     ]
    }
   ],
   "source": [
    "with torch.no_grad():\n",
    "    test_mse = 0\n",
    "    mse_end = 0\n",
    "    for x, y in testData:\n",
    "        x, y = x.cuda(), y.cuda()\n",
    "            \n",
    "        out = model(x)\n",
    "        end = out[0, -1]\n",
    "        yend = y[0, -1]\n",
    "        mse_end += loss(end, yend)\n",
    "     \n",
    "\n",
    "        test_mse += loss(out, y)\n",
    "print(\"TEST MSE For 20 Instances:\", test_mse/len(testData))\n",
    "print(\"TEST MSE FINAL VALUE for 20 Instances:\", mse_end.item()/len(testData))"
   ]
  },
  {
   "cell_type": "code",
   "execution_count": 17,
   "id": "f02cf229",
   "metadata": {},
   "outputs": [
    {
     "name": "stdout",
     "output_type": "stream",
     "text": [
      "(100, 50, 100)\n"
     ]
    }
   ],
   "source": [
    "# Load Data\n",
    "x = np.loadtxt(\"xOOB.dat\", dtype=np.float32)\n",
    "y = np.loadtxt(\"yOOB.dat\", dtype=np.float32)\n",
    "x = x.reshape(x.shape[0], x.shape[1] // 100, 100)\n",
    "yDataArray = []\n",
    "newYArray = []\n",
    "for i in range(y.shape[0]):\n",
    "    newYArray = []\n",
    "    for j in range(x.shape[1]):\n",
    "        newYArray.append(y[i])\n",
    "    yDataArray.append(newYArray)\n",
    "y = np.array(yDataArray) \n",
    "print(y.shape)\n",
    "y = y.reshape(100, 50, 100, 1)\n",
    "x = x.reshape(100, 50, 100, 1)\n",
    "x = torch.from_numpy(x).cuda()\n",
    "y = torch.from_numpy(y).cuda()\n",
    "OOBData = DataLoader(TensorDataset(x, y), batch_size=batch_size, shuffle=False)"
   ]
  },
  {
   "cell_type": "code",
   "execution_count": 18,
   "id": "8ab7cd96",
   "metadata": {},
   "outputs": [
    {
     "name": "stdout",
     "output_type": "stream",
     "text": [
      "OOB MSE For 20 Instances: tensor(17.0583, device='cuda:0')\n",
      "OOB MSE FINAL VALUE for 20 Instances: 11.116807556152343\n"
     ]
    }
   ],
   "source": [
    "with torch.no_grad():\n",
    "    test_mse = 0\n",
    "    mse_end = 0\n",
    "    for x, y in OOBData:\n",
    "        x, y = x.cuda(), y.cuda()\n",
    "            \n",
    "        out = model(x)\n",
    "        end = out[0, -1]\n",
    "        yend = y[0, -1]\n",
    "        mse_end += loss(end, yend)\n",
    "     \n",
    "\n",
    "        test_mse += loss(out, y)\n",
    "print(\"OOB MSE For 20 Instances:\", test_mse/len(testData))\n",
    "print(\"OOB MSE FINAL VALUE for 20 Instances:\", mse_end.item()/len(testData))"
   ]
  },
  {
   "cell_type": "code",
   "execution_count": 22,
   "id": "91cc2d3a",
   "metadata": {},
   "outputs": [
    {
     "name": "stderr",
     "output_type": "stream",
     "text": [
      "The PostScript backend does not support transparency; partially transparent artists will be rendered opaque.\n"
     ]
    },
    {
     "data": {
      "image/png": "[encoded data removed]",
      "text/plain": [
       "<Figure size 432x288 with 1 Axes>"
      ]
     },
     "metadata": {
      "needs_background": "light"
     },
     "output_type": "display_data"
    }
   ],
   "source": [
    "# Show some examples\n",
    "with torch.no_grad():\n",
    "    for x, y in OOBData:\n",
    "        x, y = x.cuda(), y.cuda()   \n",
    "        out = model(x)\n",
    "    plt.plot(out[1, -1].detach().cpu(), label=\"FNO Predict\")\n",
    "    plt.plot(y[1, -1].detach().cpu(), label=\"Correct\")\n",
    "    plt.legend()\n",
    "    plt.savefig(\"fno.eps\")"
   ]
  },
  {
   "cell_type": "code",
   "execution_count": null,
   "id": "388e6e6e",
   "metadata": {},
   "outputs": [],
   "source": []
  }
 ],
 "metadata": {
  "kernelspec": {
   "display_name": "Python 3 (ipykernel)",
   "language": "python",
   "name": "python3"
  },
  "language_info": {
   "codemirror_mode": {
    "name": "ipython",
    "version": 3
   },
   "file_extension": ".py",
   "mimetype": "text/x-python",
   "name": "python",
   "nbconvert_exporter": "python",
   "pygments_lexer": "ipython3",
   "version": "3.9.12"
  }
 },
 "nbformat": 4,
 "nbformat_minor": 5
}

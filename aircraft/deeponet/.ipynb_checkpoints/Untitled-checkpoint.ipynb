{
 "cells": [
  {
   "cell_type": "code",
   "execution_count": 2,
   "id": "8f69ff61",
   "metadata": {},
   "outputs": [],
   "source": [
    "import torch\n",
    "from torch import nn\n",
    "from torch.utils.data import TensorDataset, DataLoader\n",
    "import numpy as np\n",
    "import matplotlib.pyplot as plt\n",
    "from sklearn.model_selection import train_test_split\n",
    "from Adam import Adam\n",
    "from timeit import default_timer\n",
    "import operator\n",
    "from functools import reduce\n",
    "from functools import partial\n",
    "from normal import UnitGaussianNormalizer\n",
    "from matplotlib import cm\n",
    "import scipy.io\n",
    "from utilities3 import LpLoss\n",
    "from deeponet import DeepONet\n",
    "from gru2 import GRUModel"
   ]
  },
  {
   "cell_type": "code",
   "execution_count": 3,
   "id": "7e7df6f3",
   "metadata": {},
   "outputs": [
    {
     "name": "stdout",
     "output_type": "stream",
     "text": [
      "(1000, 100, 2)\n",
      "(1000, 100)\n",
      "(100, 1)\n"
     ]
    }
   ],
   "source": [
    "x = np.loadtxt(\"x.dat\", np.float32)\n",
    "y = np.loadtxt(\"y.dat\", np.float32)\n",
    "x = x.reshape(x.shape[0], x.shape[1]//2, 2)\n",
    "y = y.reshape(y.shape[0], y.shape[1])\n",
    "grid = np.linspace(0, 1, 100, dtype=np.float32).reshape((100, 1))\n",
    "\n",
    "print(x.shape)\n",
    "print(y.shape)\n",
    "print(grid.shape)"
   ]
  },
  {
   "cell_type": "code",
   "execution_count": 4,
   "id": "54b63dcc",
   "metadata": {},
   "outputs": [],
   "source": [
    "# Define a sequential torch network for batch and trunk. Can use COV2D which we will show later\n",
    "branch = GRUModel(400, 2, 512)\n",
    "\n",
    "trunk = nn.Sequential(\n",
    "          nn.Linear(1, 64),\n",
    "          nn.ReLU(),\n",
    "          nn.Linear(64,64),\n",
    "          nn.ReLU(),\n",
    "          nn.Linear(64, 64),\n",
    "          nn.ReLU(),\n",
    "        )"
   ]
  },
  {
   "cell_type": "code",
   "execution_count": 5,
   "id": "c2773e6b",
   "metadata": {},
   "outputs": [],
   "source": [
    "# Parameters\n",
    "epochs = 1000\n",
    "ntrain = 900\n",
    "ntest = 100\n",
    "batch_size = 20\n",
    "gamma = 0.5\n",
    "learning_rate = 0.001\n",
    "step_size= 100"
   ]
  },
  {
   "cell_type": "code",
   "execution_count": 6,
   "id": "280f9ba7",
   "metadata": {},
   "outputs": [],
   "source": [
    "# Create train/test splits\n",
    "x_train, x_test, y_train, y_test = train_test_split(x, y, test_size=0.1, random_state=1)\n",
    "x_train = torch.from_numpy(x_train).cuda()\n",
    "y_train = torch.from_numpy(y_train).cuda()\n",
    "x_test = torch.from_numpy(x_test).cuda()\n",
    "y_test = torch.from_numpy(y_test).cuda()\n",
    "\n",
    "grid_repeated = []\n",
    "for i in range(batch_size):\n",
    "    grid_repeated.append(grid)\n",
    "grid_repeated = torch.from_numpy(np.array(grid_repeated)).cuda()\n",
    "\n",
    "trainData = DataLoader(TensorDataset(x_train, y_train), batch_size=batch_size, shuffle=True)\n",
    "testData = DataLoader(TensorDataset(x_test, y_test), batch_size=batch_size, shuffle=False)"
   ]
  },
  {
   "cell_type": "code",
   "execution_count": 7,
   "id": "e2494477",
   "metadata": {},
   "outputs": [],
   "source": [
    "def count_params(model):\n",
    "    c = 0\n",
    "    for p in list(model.parameters()):\n",
    "        c += reduce(operator.mul, \n",
    "                    list(p.size()+(2,) if p.is_complex() else p.size()))\n",
    "    return c"
   ]
  },
  {
   "cell_type": "code",
   "execution_count": 8,
   "id": "2dbda405",
   "metadata": {},
   "outputs": [
    {
     "ename": "TypeError",
     "evalue": "cannot assign 'list' as child module 'branch' (torch.nn.Module or None expected)",
     "output_type": "error",
     "traceback": [
      "\u001b[0;31m---------------------------------------------------------------------------\u001b[0m",
      "\u001b[0;31mTypeError\u001b[0m                                 Traceback (most recent call last)",
      "Cell \u001b[0;32mIn [8], line 1\u001b[0m\n\u001b[0;32m----> 1\u001b[0m model \u001b[38;5;241m=\u001b[39m \u001b[43mDeepONet\u001b[49m\u001b[43m(\u001b[49m\u001b[43mbranch\u001b[49m\u001b[43m,\u001b[49m\u001b[43m \u001b[49m\u001b[43mtrunk\u001b[49m\u001b[43m,\u001b[49m\u001b[43m \u001b[49m\u001b[38;5;241;43m2\u001b[39;49m\u001b[43m)\u001b[49m\u001b[38;5;241m.\u001b[39mcuda()\n\u001b[1;32m      2\u001b[0m \u001b[38;5;28mprint\u001b[39m(count_params(model))\n",
      "File \u001b[0;32m~/test/aircraft/deeponet.py:8\u001b[0m, in \u001b[0;36m__init__\u001b[0;34m(self, branch_net, trunk_net, stack)\u001b[0m\n\u001b[1;32m      6\u001b[0m self.branch  = branch_net\n\u001b[1;32m      7\u001b[0m if stack != 0:\n\u001b[0;32m----> 8\u001b[0m     self.branch = []\n\u001b[1;32m      9\u001b[0m     for i in range(stack):\n\u001b[1;32m     10\u001b[0m         self.branch.append(deepcopy(branch_net))\n",
      "File \u001b[0;32m~/miniconda3/lib/python3.9/site-packages/torch/nn/modules/module.py:1242\u001b[0m, in \u001b[0;36mModule.__setattr__\u001b[0;34m(self, name, value)\u001b[0m\n\u001b[1;32m   1240\u001b[0m \u001b[38;5;28;01melif\u001b[39;00m modules \u001b[38;5;129;01mis\u001b[39;00m \u001b[38;5;129;01mnot\u001b[39;00m \u001b[38;5;28;01mNone\u001b[39;00m \u001b[38;5;129;01mand\u001b[39;00m name \u001b[38;5;129;01min\u001b[39;00m modules:\n\u001b[1;32m   1241\u001b[0m     \u001b[38;5;28;01mif\u001b[39;00m value \u001b[38;5;129;01mis\u001b[39;00m \u001b[38;5;129;01mnot\u001b[39;00m \u001b[38;5;28;01mNone\u001b[39;00m:\n\u001b[0;32m-> 1242\u001b[0m         \u001b[38;5;28;01mraise\u001b[39;00m \u001b[38;5;167;01mTypeError\u001b[39;00m(\u001b[38;5;124m\"\u001b[39m\u001b[38;5;124mcannot assign \u001b[39m\u001b[38;5;124m'\u001b[39m\u001b[38;5;132;01m{}\u001b[39;00m\u001b[38;5;124m'\u001b[39m\u001b[38;5;124m as child module \u001b[39m\u001b[38;5;124m'\u001b[39m\u001b[38;5;132;01m{}\u001b[39;00m\u001b[38;5;124m'\u001b[39m\u001b[38;5;124m \u001b[39m\u001b[38;5;124m\"\u001b[39m\n\u001b[1;32m   1243\u001b[0m                         \u001b[38;5;124m\"\u001b[39m\u001b[38;5;124m(torch.nn.Module or None expected)\u001b[39m\u001b[38;5;124m\"\u001b[39m\n\u001b[1;32m   1244\u001b[0m                         \u001b[38;5;241m.\u001b[39mformat(torch\u001b[38;5;241m.\u001b[39mtypename(value), name))\n\u001b[1;32m   1245\u001b[0m     modules[name] \u001b[38;5;241m=\u001b[39m value\n\u001b[1;32m   1246\u001b[0m \u001b[38;5;28;01melse\u001b[39;00m:\n",
      "\u001b[0;31mTypeError\u001b[0m: cannot assign 'list' as child module 'branch' (torch.nn.Module or None expected)"
     ]
    }
   ],
   "source": [
    "model = DeepONet(branch, trunk, 2).cuda()\n",
    "print(count_params(model))"
   ]
  },
  {
   "cell_type": "code",
   "execution_count": null,
   "id": "045f2a38",
   "metadata": {},
   "outputs": [],
   "source": [
    "optimizer = Adam(model.parameters(), lr=learning_rate, weight_decay=1e-4)\n",
    "scheduler = torch.optim.lr_scheduler.StepLR(optimizer, step_size=step_size, gamma=gamma)"
   ]
  },
  {
   "cell_type": "code",
   "execution_count": null,
   "id": "ab0fba05",
   "metadata": {},
   "outputs": [],
   "source": [
    "loss = LpLoss()\n",
    "train_mseArr = []\n",
    "test_mseArr = []\n",
    "for ep in range(epochs):\n",
    "    model.train()\n",
    "    t1 = default_timer()\n",
    "    train_mse = 0\n",
    "    for x, y in trainData:\n",
    "        x, y = x.cuda(), y.cuda()\n",
    "        optimizer.zero_grad()\n",
    "        \n",
    "        out = model(x, grid_repeated)\n",
    "        \n",
    "        mse = loss(out, y)\n",
    "        mse.backward()\n",
    "        \n",
    "        optimizer.step()\n",
    "        train_mse += mse.item()\n",
    "        \n",
    "    scheduler.step()\n",
    "    model.eval()\n",
    "    test_mse = 0\n",
    "    with torch.no_grad():\n",
    "        for x, y in testData:\n",
    "            x, y = x.cuda(), y.cuda()\n",
    "            \n",
    "            out = model(x, grid_repeated)\n",
    "\n",
    "            test_mse += loss(out, y).item()\n",
    "            \n",
    "    train_mse /= len(trainData)\n",
    "    test_mse /= len(testData)\n",
    "    \n",
    "    train_mseArr.append(train_mse)\n",
    "    test_mseArr.append(test_mse)\n",
    "    \n",
    "    t2 = default_timer()\n",
    "    if ep%50 == 0:\n",
    "        print(ep, t2-t1, train_mse, test_mse)"
   ]
  },
  {
   "cell_type": "code",
   "execution_count": null,
   "id": "af77da6d",
   "metadata": {},
   "outputs": [],
   "source": [
    "plt.plot(train_mseArr, label=\"Train\")\n",
    "plt.plot(test_mseArr, label=\"Test\")\n",
    "plt.yscale(\"log\")\n",
    "plt.legend()"
   ]
  },
  {
   "cell_type": "code",
   "execution_count": null,
   "id": "52eca179",
   "metadata": {},
   "outputs": [],
   "source": [
    "# Show some examples at the boundry\n",
    "index = 0\n",
    "fig, ax = plt.subplots(1, 5, figsize=(20, 5))\n",
    "with torch.no_grad():\n",
    "    for x, y in testData:\n",
    "        x, y = x.cuda(), y.cuda()   \n",
    "        \n",
    "        out = model(x, grid_repeated)\n",
    "        \n",
    "        l1 = ax[index].plot(out[0,:].detach().cpu(), label=\"Neural Network Model\")\n",
    "        l2 = ax[index].plot(y[0, :].detach().cpu(), label=\"Parameter Estimator\")\n",
    "        ax[index].set_xlabel(\"t(s)\")\n",
    "        ax[index].set_ylabel(\"$\\hat{\\theta}(0, t)$\")\n",
    "        index+=1\n",
    "#fig.legend([l1, l2], [\"Neural Network Model\", \"Statistical Parameter Estimator\"])\n",
    "#fig.show()"
   ]
  },
  {
   "cell_type": "code",
   "execution_count": null,
   "id": "3838b1dd",
   "metadata": {},
   "outputs": [],
   "source": []
  }
 ],
 "metadata": {
  "kernelspec": {
   "display_name": "Python 3 (ipykernel)",
   "language": "python",
   "name": "python3"
  },
  "language_info": {
   "codemirror_mode": {
    "name": "ipython",
    "version": 3
   },
   "file_extension": ".py",
   "mimetype": "text/x-python",
   "name": "python",
   "nbconvert_exporter": "python",
   "pygments_lexer": "ipython3",
   "version": "3.9.12"
  }
 },
 "nbformat": 4,
 "nbformat_minor": 5
}

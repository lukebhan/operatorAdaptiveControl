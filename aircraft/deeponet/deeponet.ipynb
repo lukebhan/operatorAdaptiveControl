{
 "cells": [
  {
   "cell_type": "code",
   "execution_count": 1,
   "id": "8f69ff61",
   "metadata": {},
   "outputs": [],
   "source": [
    "import torch\n",
    "from torch import nn\n",
    "from torch.utils.data import TensorDataset, DataLoader\n",
    "import numpy as np\n",
    "import matplotlib.pyplot as plt\n",
    "from sklearn.model_selection import train_test_split\n",
    "from Adam import Adam\n",
    "from timeit import default_timer\n",
    "import operator\n",
    "from functools import reduce\n",
    "from functools import partial\n",
    "from normal import UnitGaussianNormalizer\n",
    "from matplotlib import cm\n",
    "import scipy.io\n",
    "from utilities3 import LpLoss\n",
    "from deeponet import DeepONet2D\n",
    "from gru2 import GRUModel"
   ]
  },
  {
   "cell_type": "code",
   "execution_count": 2,
   "id": "7e7df6f3",
   "metadata": {},
   "outputs": [
    {
     "name": "stdout",
     "output_type": "stream",
     "text": [
      "(1000, 2000, 7)\n",
      "(1000, 2000, 5)\n",
      "(2000, 1)\n"
     ]
    }
   ],
   "source": [
    "x = np.loadtxt(\"xAlpha.dat\", np.float32)\n",
    "y = np.loadtxt(\"y.dat\", np.float32)\n",
    "x = x.reshape(x.shape[0], x.shape[1]//7, 7)\n",
    "y = y.reshape(y.shape[0], y.shape[1]//5, 5)\n",
    "grid = np.linspace(0, 20, 2000, dtype=np.float32).reshape((2000, 1))\n",
    "\n",
    "print(x.shape)\n",
    "print(y.shape)\n",
    "print(grid.shape)"
   ]
  },
  {
   "cell_type": "code",
   "execution_count": 3,
   "id": "54b63dcc",
   "metadata": {},
   "outputs": [],
   "source": [
    "# Define a sequential torch network for batch and trunk. Can use COV2D which we will show later\n",
    "branch = nn.Sequential(\n",
    "    GRUModel(200, 7, 500))\n",
    "\n",
    "trunk = nn.Sequential(\n",
    "          nn.Linear(1, 64),\n",
    "          nn.ReLU(),\n",
    "          nn.Linear(64,128),\n",
    "          nn.ReLU(),\n",
    "          nn.Linear(128, 500),\n",
    "          nn.ReLU(),\n",
    "        )"
   ]
  },
  {
   "cell_type": "code",
   "execution_count": 4,
   "id": "c2773e6b",
   "metadata": {},
   "outputs": [],
   "source": [
    "# Parameters\n",
    "epochs = 1000\n",
    "ntrain = 900\n",
    "ntest = 100\n",
    "batch_size = 20\n",
    "gamma = 0.5\n",
    "learning_rate = 0.001\n",
    "step_size= 100"
   ]
  },
  {
   "cell_type": "code",
   "execution_count": 5,
   "id": "280f9ba7",
   "metadata": {},
   "outputs": [],
   "source": [
    "# Create train/test splits\n",
    "x_train, x_test, y_train, y_test = train_test_split(x, y, test_size=0.1, random_state=1)\n",
    "x_train = torch.from_numpy(x_train).cuda()\n",
    "y_train = torch.from_numpy(y_train).cuda()\n",
    "x_test = torch.from_numpy(x_test).cuda()\n",
    "y_test = torch.from_numpy(y_test).cuda()\n",
    "\n",
    "grid_repeated = []\n",
    "for i in range(batch_size):\n",
    "    grid_repeated.append(grid)\n",
    "grid_repeated = torch.from_numpy(np.array(grid_repeated)).cuda()\n",
    "\n",
    "trainData = DataLoader(TensorDataset(x_train, y_train), batch_size=batch_size, shuffle=True)\n",
    "testData = DataLoader(TensorDataset(x_test, y_test), batch_size=batch_size, shuffle=False)"
   ]
  },
  {
   "cell_type": "code",
   "execution_count": 6,
   "id": "e2494477",
   "metadata": {},
   "outputs": [],
   "source": [
    "def count_params(model):\n",
    "    c = 0\n",
    "    for p in list(model.parameters()):\n",
    "        c += reduce(operator.mul, \n",
    "                    list(p.size()+(2,) if p.is_complex() else p.size()))\n",
    "    return c"
   ]
  },
  {
   "cell_type": "code",
   "execution_count": 7,
   "id": "2dbda405",
   "metadata": {},
   "outputs": [
    {
     "name": "stdout",
     "output_type": "stream",
     "text": [
      "298848\n"
     ]
    }
   ],
   "source": [
    "model = DeepONet2D(branch, trunk, 5).cuda()\n",
    "print(count_params(model))"
   ]
  },
  {
   "cell_type": "code",
   "execution_count": 8,
   "id": "045f2a38",
   "metadata": {},
   "outputs": [],
   "source": [
    "optimizer = Adam(model.parameters(), lr=learning_rate, weight_decay=1e-4)\n",
    "scheduler = torch.optim.lr_scheduler.StepLR(optimizer, step_size=step_size, gamma=gamma)"
   ]
  },
  {
   "cell_type": "code",
   "execution_count": 9,
   "id": "ab0fba05",
   "metadata": {},
   "outputs": [
    {
     "name": "stdout",
     "output_type": "stream",
     "text": [
      "0 2.3844285397790372 0.3654269943634669 0.08371993154287338\n",
      "50 2.20546884695068 0.0184387339072095 0.008610419556498527\n"
     ]
    },
    {
     "ename": "KeyboardInterrupt",
     "evalue": "",
     "output_type": "error",
     "traceback": [
      "\u001b[0;31m---------------------------------------------------------------------------\u001b[0m",
      "\u001b[0;31mKeyboardInterrupt\u001b[0m                         Traceback (most recent call last)",
      "Cell \u001b[0;32mIn [9], line 14\u001b[0m\n\u001b[1;32m     12\u001b[0m out \u001b[38;5;241m=\u001b[39m model(x, grid_repeated)\n\u001b[1;32m     13\u001b[0m mse \u001b[38;5;241m=\u001b[39m loss(out, y)\n\u001b[0;32m---> 14\u001b[0m \u001b[43mmse\u001b[49m\u001b[38;5;241;43m.\u001b[39;49m\u001b[43mbackward\u001b[49m\u001b[43m(\u001b[49m\u001b[43m)\u001b[49m\n\u001b[1;32m     16\u001b[0m optimizer\u001b[38;5;241m.\u001b[39mstep()\n\u001b[1;32m     17\u001b[0m train_mse \u001b[38;5;241m+\u001b[39m\u001b[38;5;241m=\u001b[39m mse\u001b[38;5;241m.\u001b[39mitem()\n",
      "File \u001b[0;32m~/miniconda3/envs/tf/lib/python3.9/site-packages/torch/_tensor.py:487\u001b[0m, in \u001b[0;36mTensor.backward\u001b[0;34m(self, gradient, retain_graph, create_graph, inputs)\u001b[0m\n\u001b[1;32m    477\u001b[0m \u001b[38;5;28;01mif\u001b[39;00m has_torch_function_unary(\u001b[38;5;28mself\u001b[39m):\n\u001b[1;32m    478\u001b[0m     \u001b[38;5;28;01mreturn\u001b[39;00m handle_torch_function(\n\u001b[1;32m    479\u001b[0m         Tensor\u001b[38;5;241m.\u001b[39mbackward,\n\u001b[1;32m    480\u001b[0m         (\u001b[38;5;28mself\u001b[39m,),\n\u001b[0;32m   (...)\u001b[0m\n\u001b[1;32m    485\u001b[0m         inputs\u001b[38;5;241m=\u001b[39minputs,\n\u001b[1;32m    486\u001b[0m     )\n\u001b[0;32m--> 487\u001b[0m \u001b[43mtorch\u001b[49m\u001b[38;5;241;43m.\u001b[39;49m\u001b[43mautograd\u001b[49m\u001b[38;5;241;43m.\u001b[39;49m\u001b[43mbackward\u001b[49m\u001b[43m(\u001b[49m\n\u001b[1;32m    488\u001b[0m \u001b[43m    \u001b[49m\u001b[38;5;28;43mself\u001b[39;49m\u001b[43m,\u001b[49m\u001b[43m \u001b[49m\u001b[43mgradient\u001b[49m\u001b[43m,\u001b[49m\u001b[43m \u001b[49m\u001b[43mretain_graph\u001b[49m\u001b[43m,\u001b[49m\u001b[43m \u001b[49m\u001b[43mcreate_graph\u001b[49m\u001b[43m,\u001b[49m\u001b[43m \u001b[49m\u001b[43minputs\u001b[49m\u001b[38;5;241;43m=\u001b[39;49m\u001b[43minputs\u001b[49m\n\u001b[1;32m    489\u001b[0m \u001b[43m\u001b[49m\u001b[43m)\u001b[49m\n",
      "File \u001b[0;32m~/miniconda3/envs/tf/lib/python3.9/site-packages/torch/autograd/__init__.py:197\u001b[0m, in \u001b[0;36mbackward\u001b[0;34m(tensors, grad_tensors, retain_graph, create_graph, grad_variables, inputs)\u001b[0m\n\u001b[1;32m    192\u001b[0m     retain_graph \u001b[38;5;241m=\u001b[39m create_graph\n\u001b[1;32m    194\u001b[0m \u001b[38;5;66;03m# The reason we repeat same the comment below is that\u001b[39;00m\n\u001b[1;32m    195\u001b[0m \u001b[38;5;66;03m# some Python versions print out the first line of a multi-line function\u001b[39;00m\n\u001b[1;32m    196\u001b[0m \u001b[38;5;66;03m# calls in the traceback and some print out the last line\u001b[39;00m\n\u001b[0;32m--> 197\u001b[0m \u001b[43mVariable\u001b[49m\u001b[38;5;241;43m.\u001b[39;49m\u001b[43m_execution_engine\u001b[49m\u001b[38;5;241;43m.\u001b[39;49m\u001b[43mrun_backward\u001b[49m\u001b[43m(\u001b[49m\u001b[43m  \u001b[49m\u001b[38;5;66;43;03m# Calls into the C++ engine to run the backward pass\u001b[39;49;00m\n\u001b[1;32m    198\u001b[0m \u001b[43m    \u001b[49m\u001b[43mtensors\u001b[49m\u001b[43m,\u001b[49m\u001b[43m \u001b[49m\u001b[43mgrad_tensors_\u001b[49m\u001b[43m,\u001b[49m\u001b[43m \u001b[49m\u001b[43mretain_graph\u001b[49m\u001b[43m,\u001b[49m\u001b[43m \u001b[49m\u001b[43mcreate_graph\u001b[49m\u001b[43m,\u001b[49m\u001b[43m \u001b[49m\u001b[43minputs\u001b[49m\u001b[43m,\u001b[49m\n\u001b[1;32m    199\u001b[0m \u001b[43m    \u001b[49m\u001b[43mallow_unreachable\u001b[49m\u001b[38;5;241;43m=\u001b[39;49m\u001b[38;5;28;43;01mTrue\u001b[39;49;00m\u001b[43m,\u001b[49m\u001b[43m \u001b[49m\u001b[43maccumulate_grad\u001b[49m\u001b[38;5;241;43m=\u001b[39;49m\u001b[38;5;28;43;01mTrue\u001b[39;49;00m\u001b[43m)\u001b[49m\n",
      "\u001b[0;31mKeyboardInterrupt\u001b[0m: "
     ]
    }
   ],
   "source": [
    "loss = LpLoss()\n",
    "train_mseArr = []\n",
    "test_mseArr = []\n",
    "for ep in range(epochs):\n",
    "    model.train()\n",
    "    t1 = default_timer()\n",
    "    train_mse = 0\n",
    "    for x, y in trainData:\n",
    "        x, y = x.cuda(), y.cuda()\n",
    "        optimizer.zero_grad()\n",
    "        \n",
    "        out = model(x, grid_repeated)\n",
    "        mse = loss(out, y)\n",
    "        mse.backward()\n",
    "        \n",
    "        optimizer.step()\n",
    "        train_mse += mse.item()\n",
    "        \n",
    "    scheduler.step()\n",
    "    model.eval()\n",
    "    test_mse = 0\n",
    "    with torch.no_grad():\n",
    "        for x, y in testData:\n",
    "            x, y = x.cuda(), y.cuda()\n",
    "            \n",
    "            out = model(x, grid_repeated)\n",
    "            test_mse += loss(out, y).item()\n",
    "            \n",
    "    train_mse /= len(trainData)\n",
    "    test_mse /= len(testData)\n",
    "    \n",
    "    train_mseArr.append(train_mse)\n",
    "    test_mseArr.append(test_mse)\n",
    "    \n",
    "    t2 = default_timer()\n",
    "    if ep%50 == 0:\n",
    "        print(ep, t2-t1, train_mse, test_mse)"
   ]
  },
  {
   "cell_type": "code",
   "execution_count": null,
   "id": "af77da6d",
   "metadata": {},
   "outputs": [],
   "source": [
    "plt.plot(train_mseArr, label=\"Train\")\n",
    "plt.plot(test_mseArr, label=\"Test\")\n",
    "plt.yscale(\"log\")\n",
    "plt.title(\"DeepONet Loss\")\n",
    "plt.xlabel(\"Epoch Number\")\n",
    "plt.ylabel(r\"$L_2$ Loss\")\n",
    "plt.legend()\n",
    "plt.savefig(\"deeponet.eps\")"
   ]
  },
  {
   "cell_type": "code",
   "execution_count": null,
   "id": "52eca179",
   "metadata": {},
   "outputs": [],
   "source": [
    "# Show some examples at the boundry\n",
    "index = 0\n",
    "fig, ax = plt.subplots(1, 5, figsize=(20, 5))\n",
    "with torch.no_grad():\n",
    "    for x, y in testData:\n",
    "        x, y = x.cuda(), y.cuda()   \n",
    "        out = model(x, grid_repeated)\n",
    "        l1 = ax[index].plot(out[0,:, 2].detach().cpu(), label=\"Neural Network Model\")\n",
    "        l2 = ax[index].plot(y[0, :, 2].detach().cpu(), label=\"Statistical Parameter Estimator\")\n",
    "        ax[index].set_xlabel(\"t(s)\")\n",
    "        ax[index].set_ylabel(\"$\\hat{\\theta}(0, t)$\")\n",
    "        index+=1\n",
    "#fig.legend([l1, l2], [\"Neural Network Model\", \"Statistical Parameter Estimator\"])\n",
    "#fig.show()"
   ]
  },
  {
   "cell_type": "code",
   "execution_count": null,
   "id": "3838b1dd",
   "metadata": {},
   "outputs": [],
   "source": [
    "torch.save(model.state_dict(), 'deeponet1')"
   ]
  },
  {
   "cell_type": "code",
   "execution_count": 8,
   "id": "2da95cbf",
   "metadata": {},
   "outputs": [
    {
     "data": {
      "text/plain": [
       "<All keys matched successfully>"
      ]
     },
     "execution_count": 8,
     "metadata": {},
     "output_type": "execute_result"
    }
   ],
   "source": [
    "model.load_state_dict(torch.load('deeponet1'))"
   ]
  },
  {
   "cell_type": "code",
   "execution_count": 11,
   "id": "a8101f53",
   "metadata": {},
   "outputs": [],
   "source": [
    "with torch.no_grad():\n",
    "    for x, y in testData:\n",
    "        x, y = x.cuda(), y.cuda()   \n",
    "        startTime = default_timer()\n",
    "        out = model(x, grid_repeated)\n",
    "        endTime = default_timer()"
   ]
  },
  {
   "cell_type": "code",
   "execution_count": 12,
   "id": "4cef9643",
   "metadata": {},
   "outputs": [
    {
     "name": "stdout",
     "output_type": "stream",
     "text": [
      "0.02297679567709565\n"
     ]
    }
   ],
   "source": [
    "print(endTime-startTime)"
   ]
  },
  {
   "cell_type": "code",
   "execution_count": null,
   "id": "e1424fe6",
   "metadata": {},
   "outputs": [],
   "source": []
  }
 ],
 "metadata": {
  "kernelspec": {
   "display_name": "Python 3 (ipykernel)",
   "language": "python",
   "name": "python3"
  },
  "language_info": {
   "codemirror_mode": {
    "name": "ipython",
    "version": 3
   },
   "file_extension": ".py",
   "mimetype": "text/x-python",
   "name": "python",
   "nbconvert_exporter": "python",
   "pygments_lexer": "ipython3",
   "version": "3.9.12"
  }
 },
 "nbformat": 4,
 "nbformat_minor": 5
}

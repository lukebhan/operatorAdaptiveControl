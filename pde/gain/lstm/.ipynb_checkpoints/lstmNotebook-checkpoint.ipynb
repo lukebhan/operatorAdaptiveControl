{
 "cells": [
  {
   "cell_type": "code",
   "execution_count": 1,
   "id": "51b10c8f",
   "metadata": {},
   "outputs": [],
   "source": [
    "import torch\n",
    "from torch import nn\n",
    "from torch.utils.data import TensorDataset, DataLoader\n",
    "import numpy as np\n",
    "import matplotlib.pyplot as plt\n",
    "from sklearn.model_selection import train_test_split\n",
    "from Adam import Adam\n",
    "from lstm import LSTMModel\n",
    "from timeit import default_timer\n",
    "import operator\n",
    "from functools import reduce\n",
    "from functools import partial\n",
    "from normal import UnitGaussianNormalizer"
   ]
  },
  {
   "cell_type": "code",
   "execution_count": null,
   "id": "ade990aa",
   "metadata": {},
   "outputs": [],
   "source": [
    "# Load Data\n",
    "x = np.loadtxt(\"x.dat\", dtype=np.float32)\n",
    "y = np.loadtxt(\"y.dat\", dtype=np.float32)\n",
    "x = x.reshape(x.shape[0], x.shape[1] // 100, 100)\n",
    "yDataArray = []\n",
    "newYArray = []\n",
    "for i in range(y.shape[0]):\n",
    "    newYArray = []\n",
    "    for j in range(x.shape[1]):\n",
    "        newYArray.append(y[i])\n",
    "    yDataArray.append(newYArray)\n",
    "y = np.array(yDataArray)    \n",
    "print(x.shape)\n",
    "print(y.shape)"
   ]
  },
  {
   "cell_type": "code",
   "execution_count": 3,
   "id": "90a21292",
   "metadata": {},
   "outputs": [],
   "source": [
    "# Parameters\n",
    "nt = 50\n",
    "epochs = 500\n",
    "ntrain = 900\n",
    "ntest = 100\n",
    "batch_size = 20\n",
    "gamma = 0.5\n",
    "learning_rate = 0.001\n",
    "step_size= 50"
   ]
  },
  {
   "cell_type": "code",
   "execution_count": 4,
   "id": "eb540987",
   "metadata": {},
   "outputs": [],
   "source": [
    "# Create train/test splits\n",
    "x_train, x_test, y_train, y_test = train_test_split(x, y, test_size=0.1, random_state=1)\n",
    "x_train = torch.from_numpy(x_train).cuda()\n",
    "y_train = torch.from_numpy(y_train).cuda()\n",
    "x_test = torch.from_numpy(x_test).cuda()\n",
    "y_test = torch.from_numpy(y_test).cuda()\n",
    "\n",
    "# Normalize\n",
    "#x_normalizer = UnitGaussianNormalizer(x_train)\n",
    "#y_normalizer = UnitGaussianNormalizer(y_train)\n",
    "#x_train  = x_normalizer.encode(x_train)\n",
    "#x_test = x_normalizer.encode(x_test)\n",
    "#y_train = y_normalizer.encode(y_train)\n",
    "\n",
    "trainData = DataLoader(TensorDataset(x_train, y_train), batch_size=batch_size, shuffle=True)\n",
    "testData = DataLoader(TensorDataset(x_test, y_test), batch_size=batch_size, shuffle=False)"
   ]
  },
  {
   "cell_type": "code",
   "execution_count": 5,
   "id": "6fa829cc",
   "metadata": {},
   "outputs": [],
   "source": [
    "def count_params(model):\n",
    "    c = 0\n",
    "    for p in list(model.parameters()):\n",
    "        c += reduce(operator.mul, \n",
    "                    list(p.size()+(2,) if p.is_complex() else p.size()))\n",
    "    return c"
   ]
  },
  {
   "cell_type": "code",
   "execution_count": 6,
   "id": "7ef6d9cf",
   "metadata": {},
   "outputs": [
    {
     "name": "stdout",
     "output_type": "stream",
     "text": [
      "5217316\n"
     ]
    }
   ],
   "source": [
    "model = LSTMModel(100, 1024, 100, 1, 3, [512, 128, 64]).cuda()\n",
    "print(count_params(model))"
   ]
  },
  {
   "cell_type": "code",
   "execution_count": 7,
   "id": "2629bada",
   "metadata": {},
   "outputs": [],
   "source": [
    "optimizer = Adam(model.parameters(), lr=learning_rate, weight_decay=1e-4)\n",
    "scheduler = torch.optim.lr_scheduler.StepLR(optimizer, step_size=step_size, gamma=gamma)"
   ]
  },
  {
   "cell_type": "code",
   "execution_count": 8,
   "id": "b83577ca",
   "metadata": {},
   "outputs": [
    {
     "name": "stdout",
     "output_type": "stream",
     "text": [
      "0 0.3923332190606743 161.41538798014324 114.56670379638672\n",
      "50 0.6006003440124914 3.3710071245829263 3.1990909576416016\n",
      "100 0.5955127619672567 2.302334705988566 2.945246958732605\n",
      "150 0.5953453059773892 1.6593171808454725 2.406533670425415\n",
      "200 0.5954822350759059 1.177405095100403 2.3463066816329956\n",
      "250 0.6036341110011563 0.976679343647427 2.220114231109619\n",
      "300 0.5940922480076551 0.8666911257637872 2.201839280128479\n",
      "350 0.5966140879318118 0.8014512572023603 2.190670704841614\n",
      "400 0.5972468259278685 0.7642444842391544 2.168899989128113\n",
      "450 0.6057347030146047 0.7436803797880809 2.148960864543915\n"
     ]
    }
   ],
   "source": [
    "loss = nn.MSELoss()\n",
    "train_mseArr = []\n",
    "test_mseArr = []\n",
    "for ep in range(epochs):\n",
    "    model.train()\n",
    "    t1 = default_timer()\n",
    "    train_mse = 0\n",
    "    for x, y in trainData:\n",
    "        x, y = x.cuda(), y.cuda()\n",
    "        optimizer.zero_grad()\n",
    "        out = model(x)\n",
    "        #out = y_normalizer.decode(out)\n",
    "        #y = y_normalizer.decode(y)\n",
    "        \n",
    "        mse = loss(out, y)\n",
    "        mse.backward()\n",
    "        \n",
    "        optimizer.step()\n",
    "        train_mse += mse.item()\n",
    "        \n",
    "    scheduler.step()\n",
    "    model.eval()\n",
    "    test_mse = 0\n",
    "    with torch.no_grad():\n",
    "        for x, y in testData:\n",
    "            x, y = x.cuda(), y.cuda()\n",
    "            \n",
    "            out = model(x)\n",
    "            #out = y_normalizer.decode(out)\n",
    "            test_mse += loss(out, y).item()\n",
    "            \n",
    "    train_mse /= len(trainData)\n",
    "    test_mse /= len(testData)\n",
    "    \n",
    "    train_mseArr.append(train_mse)\n",
    "    test_mseArr.append(test_mse)\n",
    "    \n",
    "    t2 = default_timer()\n",
    "    if ep%50 == 0:\n",
    "        print(ep, t2-t1, train_mse, test_mse)"
   ]
  },
  {
   "cell_type": "code",
   "execution_count": 9,
   "id": "2a99042f",
   "metadata": {},
   "outputs": [
    {
     "data": {
      "text/plain": [
       "<matplotlib.legend.Legend at 0x7f4c8eccc850>"
      ]
     },
     "execution_count": 9,
     "metadata": {},
     "output_type": "execute_result"
    },
    {
     "data": {
      "image/png": "[encoded data removed]",
      "text/plain": [
       "<Figure size 432x288 with 1 Axes>"
      ]
     },
     "metadata": {
      "needs_background": "light"
     },
     "output_type": "display_data"
    }
   ],
   "source": [
    "plt.plot(train_mseArr, label=\"Train\")\n",
    "plt.plot(test_mseArr, label=\"Test\")\n",
    "plt.yscale(\"log\")\n",
    "plt.legend()"
   ]
  },
  {
   "cell_type": "code",
   "execution_count": 10,
   "id": "84718c9e",
   "metadata": {},
   "outputs": [
    {
     "data": {
      "image/png": "[encoded data removed]",
      "text/plain": [
       "<Figure size 432x288 with 1 Axes>"
      ]
     },
     "metadata": {
      "needs_background": "light"
     },
     "output_type": "display_data"
    }
   ],
   "source": [
    "# Show some examples\n",
    "with torch.no_grad():\n",
    "    for x, y in testData:\n",
    "        x, y = x.cuda(), y.cuda()   \n",
    "        out = model(x)\n",
    "    plt.plot(out[0, -1].detach().cpu())\n",
    "    plt.plot(y[0, -1].detach().cpu())"
   ]
  },
  {
   "cell_type": "code",
   "execution_count": 11,
   "id": "61b92f0a",
   "metadata": {},
   "outputs": [
    {
     "name": "stdout",
     "output_type": "stream",
     "text": [
      "TEST MSE For 20 Instances: tensor(2.1399, device='cuda:0')\n",
      "TEST MSE FINAL VALUE for 20 Instances: 3.225971221923828\n"
     ]
    }
   ],
   "source": [
    "with torch.no_grad():\n",
    "    test_mse = 0\n",
    "    mse_end = 0\n",
    "    for x, y in testData:\n",
    "        x, y = x.cuda(), y.cuda()\n",
    "            \n",
    "        out = model(x)\n",
    "        end = out[0, -1]\n",
    "        yend = y[0, -1]\n",
    "        mse_end += loss(end, yend)\n",
    "     \n",
    "\n",
    "        test_mse += loss(out, y)\n",
    "print(\"TEST MSE For 20 Instances:\", test_mse/len(testData))\n",
    "print(\"TEST MSE FINAL VALUE for 20 Instances:\", mse_end.item()/len(testData))"
   ]
  },
  {
   "cell_type": "code",
   "execution_count": 12,
   "id": "2d5a662f",
   "metadata": {},
   "outputs": [],
   "source": [
    "# Load Data\n",
    "x = np.loadtxt(\"xOOB.dat\", dtype=np.float32)\n",
    "y = np.loadtxt(\"yOOB.dat\", dtype=np.float32)\n",
    "x = x.reshape(x.shape[0], x.shape[1] // 100, 100)\n",
    "yDataArray = []\n",
    "newYArray = []\n",
    "for i in range(y.shape[0]):\n",
    "    newYArray = []\n",
    "    for j in range(x.shape[1]):\n",
    "        newYArray.append(y[i])\n",
    "    yDataArray.append(newYArray)\n",
    "y = np.array(yDataArray)    \n",
    "x = torch.from_numpy(x).cuda()\n",
    "y = torch.from_numpy(y).cuda()\n",
    "OOBData = DataLoader(TensorDataset(x, y), batch_size=batch_size, shuffle=False)"
   ]
  },
  {
   "cell_type": "code",
   "execution_count": 15,
   "id": "160e5cfc",
   "metadata": {},
   "outputs": [
    {
     "name": "stdout",
     "output_type": "stream",
     "text": [
      "OOB MSE For 20 Instances: tensor(91.7220, device='cuda:0')\n",
      "OOB MSE FINAL VALUE for 20 Instances: 42.533563232421876\n"
     ]
    }
   ],
   "source": [
    "with torch.no_grad():\n",
    "    test_mse = 0\n",
    "    mse_end = 0\n",
    "    for x, y in OOBData:\n",
    "        x, y = x.cuda(), y.cuda()\n",
    "            \n",
    "        out = model(x)\n",
    "        end = out[0, -1]\n",
    "        yend = y[0, -1]\n",
    "        mse_end += loss(end, yend)\n",
    "     \n",
    "\n",
    "        test_mse += loss(out, y)\n",
    "print(\"OOB MSE For 20 Instances:\", test_mse/len(testData))\n",
    "print(\"OOB MSE FINAL VALUE for 20 Instances:\", mse_end.item()/len(testData))"
   ]
  },
  {
   "cell_type": "code",
   "execution_count": 18,
   "id": "2a11c383",
   "metadata": {},
   "outputs": [
    {
     "name": "stderr",
     "output_type": "stream",
     "text": [
      "The PostScript backend does not support transparency; partially transparent artists will be rendered opaque.\n"
     ]
    },
    {
     "data": {
      "image/png": "[encoded data removed]",
      "text/plain": [
       "<Figure size 432x288 with 1 Axes>"
      ]
     },
     "metadata": {
      "needs_background": "light"
     },
     "output_type": "display_data"
    }
   ],
   "source": [
    "# Show some examples\n",
    "with torch.no_grad():\n",
    "    for x, y in OOBData:\n",
    "        x, y = x.cuda(), y.cuda()   \n",
    "        out = model(x)\n",
    "    plt.plot(out[1, -1].detach().cpu(), label=\"LSTM Predict\")\n",
    "    plt.plot(y[1, -1].detach().cpu(), label=\"Correct\")\n",
    "    plt.legend()\n",
    "    plt.savefig(\"lstm.eps\")"
   ]
  },
  {
   "cell_type": "code",
   "execution_count": null,
   "id": "938b7986",
   "metadata": {},
   "outputs": [],
   "source": []
  }
 ],
 "metadata": {
  "kernelspec": {
   "display_name": "Python 3 (ipykernel)",
   "language": "python",
   "name": "python3"
  },
  "language_info": {
   "codemirror_mode": {
    "name": "ipython",
    "version": 3
   },
   "file_extension": ".py",
   "mimetype": "text/x-python",
   "name": "python",
   "nbconvert_exporter": "python",
   "pygments_lexer": "ipython3",
   "version": "3.9.12"
  }
 },
 "nbformat": 4,
 "nbformat_minor": 5
}
